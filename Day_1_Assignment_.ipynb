{
  "nbformat": 4,
  "nbformat_minor": 0,
  "metadata": {
    "colab": {
      "name": "Day 1 Assignment .ipynb",
      "provenance": []
    },
    "kernelspec": {
      "name": "python3",
      "display_name": "Python 3"
    },
    "language_info": {
      "name": "python"
    }
  },
  "cells": [
    {
      "cell_type": "code",
      "metadata": {
        "colab": {
          "base_uri": "https://localhost:8080/"
        },
        "id": "n6tmS5KuVHce",
        "outputId": "fa02bb1b-8a0a-431f-b98d-01fd13524004"
      },
      "source": [
        "principle=int(input())\n",
        "rate=int(input())\n",
        "time=int(input())\n",
        "simple_Interest=(principle*rate*time)/100\n",
        "print(simple_Interest)"
      ],
      "execution_count": 5,
      "outputs": [
        {
          "output_type": "stream",
          "name": "stdout",
          "text": [
            "1000\n",
            "5\n",
            "1\n",
            "50.0\n"
          ]
        }
      ]
    },
    {
      "cell_type": "code",
      "metadata": {
        "colab": {
          "base_uri": "https://localhost:8080/"
        },
        "id": "kJSC1PwwX4xN",
        "outputId": "77aa28c0-d2d3-438b-9b0b-022c08c2d870"
      },
      "source": [
        "principle,rate,time=int(input()),int(input()),int(input())\n",
        "print((principle*rate*time)/100)"
      ],
      "execution_count": 6,
      "outputs": [
        {
          "output_type": "stream",
          "name": "stdout",
          "text": [
            "1000\n",
            "6\n",
            "1\n",
            "60.0\n"
          ]
        }
      ]
    }
  ]
}